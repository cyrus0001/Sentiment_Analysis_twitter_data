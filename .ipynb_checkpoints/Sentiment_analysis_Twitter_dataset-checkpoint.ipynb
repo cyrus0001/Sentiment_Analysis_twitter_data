{
 "cells": [
  {
   "cell_type": "markdown",
   "id": "39cf606c",
   "metadata": {},
   "source": [
    "# Sentiment Analysis "
   ]
  },
  {
   "cell_type": "markdown",
   "id": "f8d4486d",
   "metadata": {},
   "source": [
    "## Introduction"
   ]
  },
  {
   "cell_type": "markdown",
   "id": "fdfbcc21",
   "metadata": {},
   "source": [
    "* **Natural Language Processing(NLP):** The disciplien of computer science,artificial intelligence and linguistics that is concerned with the creation of computational models that process and understand the semantic grouping of words(e.g. cat and dog are semantically more similar that dof and spoon) , text to speech , language translation and many more.\n"
   ]
  },
  {
   "cell_type": "markdown",
   "id": "440b733d",
   "metadata": {},
   "source": [
    "* **Sentiment Analysis :** It is  the interpretation and classification of emotions (positive , negative) withi text data using text analysis techniques. Sentiment analysis allows organizations to identify public sentiment towards certain words or topics."
   ]
  },
  {
   "cell_type": "markdown",
   "id": "d1c3ad1c",
   "metadata": {},
   "source": [
    "We will develop a **Sentiment Analysis model** to categorize a tweet as **Positive or Negative.**"
   ]
  },
  {
   "cell_type": "markdown",
   "id": "8af6c2bf",
   "metadata": {},
   "source": [
    "## Table of Contents \n",
    "1. [Importing dependencies](#p1)\n",
    "2. [Importing dataset](#p2)\n",
    "3. [Data Understanding](#p3)\n",
    "4. [Data Preparation](#p4)\n",
    "5. [Data Preprocessing](#p5)\n",
    "6. [Data Analysis](#p6)\n",
    "7. [Splitting the Data](#p7)\n",
    "8. [TF-IDF Vectoriser](#p8)\n",
    "9. [Tranforming the dataset](#p9)\n",
    "10. [Creating and Evaluating Models](#p10)\n",
    "    * [LinearSVC Model](#p10-1)\n",
    "    * [BernoulliNB Model](#p10-2)\n",
    "    * [Logistic Regression Model](#p10-3)\n",
    "11. [Saving the Model](#p11)\n",
    "12. [Using the Model](#p12)\n",
    "13. [Using the Model - Excel Upload](#p13)"
   ]
  },
  {
   "cell_type": "markdown",
   "id": "7af4a61a",
   "metadata": {},
   "source": [
    "## <a name = \"p1\">Importing Dependencies </a>"
   ]
  },
  {
   "cell_type": "code",
   "execution_count": 4,
   "id": "22251bdf",
   "metadata": {},
   "outputs": [],
   "source": [
    "#Inporting the required libraries \n",
    "\n",
    "import pandas as pd \n",
    "import numpy as np \n",
    "import matplotlib.pyplot as plt\n",
    "import seaborn as sns\n",
    "\n",
    "from sklearn.model_selection import train_test_split,GridSearchCV,RandomizedSearchCV,KFold\n",
    "from sklearn.metrics import accuracy_score,roc_auc_score,confusion_matrix,recall_score,precision_score,classification_report,roc_curve, auc\n",
    "from sklearn.preprocessing import MinMaxScaler\n",
    "from sklearn.feature_selection import RFE\n",
    "from sklearn.linear_model import LogisticRegression\n",
    "from sklearn.tree import DecisionTreeClassifier\n",
    "from sklearn.ensemble import RandomForestClassifier, GradientBoostingClassifier\n",
    "from sklearn.svm import SVC\n",
    "from sklearn.naive_bayes import MultinomialNB\n",
    "from sklearn import svm\n",
    "from sklearn.svm import LinearSVC\n",
    "from sklearn.naive_bayes import BernoulliNB\n",
    "from sklearn.preprocessing import StandardScaler,MinMaxScaler\n",
    "from sklearn.model_selection import cross_val_score\n",
    "from sklearn.feature_extraction.text import CountVectorizer\n",
    "from sklearn.feature_extraction.text import TfidfTransformer,TfidfVectorizer\n",
    "from sklearn.pipeline import Pipeline\n",
    "from sklearn.utils import shuffle"
   ]
  },
  {
   "cell_type": "code",
   "execution_count": 12,
   "id": "e34addec",
   "metadata": {},
   "outputs": [],
   "source": [
    "import xgboost as xgb\n",
    "from scipy.stats import boxcox\n",
    "\n",
    "import nltk\n",
    "from nltk.corpus import stopwords\n",
    "from nltk import tokenize\n",
    "from nltk.tokenize import word_tokenize\n",
    "from nltk.stem.porter import PorterStemmer\n",
    "from nltk.stem import WordNetLemmatizer\n",
    "from nltk import pos_tag\n",
    "from nltk.corpus import wordnet\n",
    "\n",
    "from wordcloud import WordCloud\n",
    "\n",
    "from joblib import dump, load\n",
    "import pickle\n",
    "\n",
    "import string\n",
    "import re\n",
    "import time\n",
    "\n",
    "#pip install pandas-profiling\n",
    "#from pandas_profiling import ProfileReport \n",
    "\n",
    "import warnings\n",
    "warnings.filterwarnings('ignore')\n"
   ]
  },
  {
   "cell_type": "markdown",
   "id": "09282853",
   "metadata": {},
   "source": [
    "## <a name=\"p2\">Importing dataset</a>"
   ]
  },
  {
   "cell_type": "code",
   "execution_count": 38,
   "id": "12667c2d",
   "metadata": {},
   "outputs": [
    {
     "data": {
      "text/html": [
       "<div>\n",
       "<style scoped>\n",
       "    .dataframe tbody tr th:only-of-type {\n",
       "        vertical-align: middle;\n",
       "    }\n",
       "\n",
       "    .dataframe tbody tr th {\n",
       "        vertical-align: top;\n",
       "    }\n",
       "\n",
       "    .dataframe thead th {\n",
       "        text-align: right;\n",
       "    }\n",
       "</style>\n",
       "<table border=\"1\" class=\"dataframe\">\n",
       "  <thead>\n",
       "    <tr style=\"text-align: right;\">\n",
       "      <th></th>\n",
       "      <th>0</th>\n",
       "      <th>1467810369</th>\n",
       "      <th>Mon Apr 06 22:19:45 PDT 2009</th>\n",
       "      <th>NO_QUERY</th>\n",
       "      <th>_TheSpecialOne_</th>\n",
       "      <th>@switchfoot http://twitpic.com/2y1zl - Awww, that's a bummer.  You shoulda got David Carr of Third Day to do it. ;D</th>\n",
       "    </tr>\n",
       "  </thead>\n",
       "  <tbody>\n",
       "    <tr>\n",
       "      <th>0</th>\n",
       "      <td>0</td>\n",
       "      <td>1467810672</td>\n",
       "      <td>Mon Apr 06 22:19:49 PDT 2009</td>\n",
       "      <td>NO_QUERY</td>\n",
       "      <td>scotthamilton</td>\n",
       "      <td>is upset that he can't update his Facebook by ...</td>\n",
       "    </tr>\n",
       "    <tr>\n",
       "      <th>1</th>\n",
       "      <td>0</td>\n",
       "      <td>1467810917</td>\n",
       "      <td>Mon Apr 06 22:19:53 PDT 2009</td>\n",
       "      <td>NO_QUERY</td>\n",
       "      <td>mattycus</td>\n",
       "      <td>@Kenichan I dived many times for the ball. Man...</td>\n",
       "    </tr>\n",
       "    <tr>\n",
       "      <th>2</th>\n",
       "      <td>0</td>\n",
       "      <td>1467811184</td>\n",
       "      <td>Mon Apr 06 22:19:57 PDT 2009</td>\n",
       "      <td>NO_QUERY</td>\n",
       "      <td>ElleCTF</td>\n",
       "      <td>my whole body feels itchy and like its on fire</td>\n",
       "    </tr>\n",
       "    <tr>\n",
       "      <th>3</th>\n",
       "      <td>0</td>\n",
       "      <td>1467811193</td>\n",
       "      <td>Mon Apr 06 22:19:57 PDT 2009</td>\n",
       "      <td>NO_QUERY</td>\n",
       "      <td>Karoli</td>\n",
       "      <td>@nationwideclass no, it's not behaving at all....</td>\n",
       "    </tr>\n",
       "    <tr>\n",
       "      <th>4</th>\n",
       "      <td>0</td>\n",
       "      <td>1467811372</td>\n",
       "      <td>Mon Apr 06 22:20:00 PDT 2009</td>\n",
       "      <td>NO_QUERY</td>\n",
       "      <td>joy_wolf</td>\n",
       "      <td>@Kwesidei not the whole crew</td>\n",
       "    </tr>\n",
       "  </tbody>\n",
       "</table>\n",
       "</div>"
      ],
      "text/plain": [
       "   0  1467810369  Mon Apr 06 22:19:45 PDT 2009  NO_QUERY _TheSpecialOne_  \\\n",
       "0  0  1467810672  Mon Apr 06 22:19:49 PDT 2009  NO_QUERY   scotthamilton   \n",
       "1  0  1467810917  Mon Apr 06 22:19:53 PDT 2009  NO_QUERY        mattycus   \n",
       "2  0  1467811184  Mon Apr 06 22:19:57 PDT 2009  NO_QUERY         ElleCTF   \n",
       "3  0  1467811193  Mon Apr 06 22:19:57 PDT 2009  NO_QUERY          Karoli   \n",
       "4  0  1467811372  Mon Apr 06 22:20:00 PDT 2009  NO_QUERY        joy_wolf   \n",
       "\n",
       "  @switchfoot http://twitpic.com/2y1zl - Awww, that's a bummer.  You shoulda got David Carr of Third Day to do it. ;D  \n",
       "0  is upset that he can't update his Facebook by ...                                                                   \n",
       "1  @Kenichan I dived many times for the ball. Man...                                                                   \n",
       "2    my whole body feels itchy and like its on fire                                                                    \n",
       "3  @nationwideclass no, it's not behaving at all....                                                                   \n",
       "4                      @Kwesidei not the whole crew                                                                    "
      ]
     },
     "execution_count": 38,
     "metadata": {},
     "output_type": "execute_result"
    }
   ],
   "source": [
    "#Importing the dataset \n",
    "data = pd.read_csv(\"C:/Users/Mintu Adak/Desktop/Sentiment-Analysis/Sentiment_dataset.csv\", encoding=\"ISO-8859-1\")\n",
    "data.head()\n"
   ]
  },
  {
   "cell_type": "markdown",
   "id": "1b10bb04",
   "metadata": {},
   "source": [
    "## <a name = \"p5 \" > Data Preprocessing </a>"
   ]
  },
  {
   "cell_type": "code",
   "execution_count": 39,
   "id": "c4be64b3",
   "metadata": {},
   "outputs": [
    {
     "data": {
      "text/html": [
       "<div>\n",
       "<style scoped>\n",
       "    .dataframe tbody tr th:only-of-type {\n",
       "        vertical-align: middle;\n",
       "    }\n",
       "\n",
       "    .dataframe tbody tr th {\n",
       "        vertical-align: top;\n",
       "    }\n",
       "\n",
       "    .dataframe thead th {\n",
       "        text-align: right;\n",
       "    }\n",
       "</style>\n",
       "<table border=\"1\" class=\"dataframe\">\n",
       "  <thead>\n",
       "    <tr style=\"text-align: right;\">\n",
       "      <th></th>\n",
       "      <th>sentiment</th>\n",
       "      <th>time</th>\n",
       "      <th>data</th>\n",
       "      <th>query</th>\n",
       "      <th>username</th>\n",
       "      <th>text</th>\n",
       "    </tr>\n",
       "  </thead>\n",
       "  <tbody>\n",
       "    <tr>\n",
       "      <th>0</th>\n",
       "      <td>0</td>\n",
       "      <td>1467810672</td>\n",
       "      <td>Mon Apr 06 22:19:49 PDT 2009</td>\n",
       "      <td>NO_QUERY</td>\n",
       "      <td>scotthamilton</td>\n",
       "      <td>is upset that he can't update his Facebook by ...</td>\n",
       "    </tr>\n",
       "    <tr>\n",
       "      <th>1</th>\n",
       "      <td>0</td>\n",
       "      <td>1467810917</td>\n",
       "      <td>Mon Apr 06 22:19:53 PDT 2009</td>\n",
       "      <td>NO_QUERY</td>\n",
       "      <td>mattycus</td>\n",
       "      <td>@Kenichan I dived many times for the ball. Man...</td>\n",
       "    </tr>\n",
       "    <tr>\n",
       "      <th>2</th>\n",
       "      <td>0</td>\n",
       "      <td>1467811184</td>\n",
       "      <td>Mon Apr 06 22:19:57 PDT 2009</td>\n",
       "      <td>NO_QUERY</td>\n",
       "      <td>ElleCTF</td>\n",
       "      <td>my whole body feels itchy and like its on fire</td>\n",
       "    </tr>\n",
       "    <tr>\n",
       "      <th>3</th>\n",
       "      <td>0</td>\n",
       "      <td>1467811193</td>\n",
       "      <td>Mon Apr 06 22:19:57 PDT 2009</td>\n",
       "      <td>NO_QUERY</td>\n",
       "      <td>Karoli</td>\n",
       "      <td>@nationwideclass no, it's not behaving at all....</td>\n",
       "    </tr>\n",
       "    <tr>\n",
       "      <th>4</th>\n",
       "      <td>0</td>\n",
       "      <td>1467811372</td>\n",
       "      <td>Mon Apr 06 22:20:00 PDT 2009</td>\n",
       "      <td>NO_QUERY</td>\n",
       "      <td>joy_wolf</td>\n",
       "      <td>@Kwesidei not the whole crew</td>\n",
       "    </tr>\n",
       "  </tbody>\n",
       "</table>\n",
       "</div>"
      ],
      "text/plain": [
       "   sentiment        time                          data     query  \\\n",
       "0          0  1467810672  Mon Apr 06 22:19:49 PDT 2009  NO_QUERY   \n",
       "1          0  1467810917  Mon Apr 06 22:19:53 PDT 2009  NO_QUERY   \n",
       "2          0  1467811184  Mon Apr 06 22:19:57 PDT 2009  NO_QUERY   \n",
       "3          0  1467811193  Mon Apr 06 22:19:57 PDT 2009  NO_QUERY   \n",
       "4          0  1467811372  Mon Apr 06 22:20:00 PDT 2009  NO_QUERY   \n",
       "\n",
       "        username                                               text  \n",
       "0  scotthamilton  is upset that he can't update his Facebook by ...  \n",
       "1       mattycus  @Kenichan I dived many times for the ball. Man...  \n",
       "2        ElleCTF    my whole body feels itchy and like its on fire   \n",
       "3         Karoli  @nationwideclass no, it's not behaving at all....  \n",
       "4       joy_wolf                      @Kwesidei not the whole crew   "
      ]
     },
     "execution_count": 39,
     "metadata": {},
     "output_type": "execute_result"
    }
   ],
   "source": [
    "# Assinging proper column names to dataframe\n",
    "data.columns = [\"sentiment\",\"time\" , \"data\" ,\"query\",\"username\" , \"text\"]\n",
    "data.head()"
   ]
  },
  {
   "cell_type": "code",
   "execution_count": 40,
   "id": "9fbf0470",
   "metadata": {},
   "outputs": [
    {
     "name": "stdout",
     "output_type": "stream",
     "text": [
      "<class 'pandas.core.frame.DataFrame'>\n",
      "RangeIndex: 1599999 entries, 0 to 1599998\n",
      "Data columns (total 6 columns):\n",
      " #   Column     Non-Null Count    Dtype \n",
      "---  ------     --------------    ----- \n",
      " 0   sentiment  1599999 non-null  int64 \n",
      " 1   time       1599999 non-null  int64 \n",
      " 2   data       1599999 non-null  object\n",
      " 3   query      1599999 non-null  object\n",
      " 4   username   1599999 non-null  object\n",
      " 5   text       1599999 non-null  object\n",
      "dtypes: int64(2), object(4)\n",
      "memory usage: 73.2+ MB\n"
     ]
    }
   ],
   "source": [
    "#Checking the datatype , number of null values presents \n",
    "data.info()"
   ]
  },
  {
   "cell_type": "code",
   "execution_count": 41,
   "id": "6c5552a0",
   "metadata": {},
   "outputs": [
    {
     "data": {
      "text/plain": [
       "sentiment    0\n",
       "time         0\n",
       "data         0\n",
       "query        0\n",
       "username     0\n",
       "text         0\n",
       "dtype: int64"
      ]
     },
     "execution_count": 41,
     "metadata": {},
     "output_type": "execute_result"
    }
   ],
   "source": [
    "#Checking column wise to check for the presence of null values \n",
    "data.isnull().sum()"
   ]
  },
  {
   "cell_type": "code",
   "execution_count": 42,
   "id": "66a65f76",
   "metadata": {},
   "outputs": [
    {
     "data": {
      "text/plain": [
       "sentiment\n",
       "4    800000\n",
       "0    799999\n",
       "Name: count, dtype: int64"
      ]
     },
     "execution_count": 42,
     "metadata": {},
     "output_type": "execute_result"
    }
   ],
   "source": [
    "# Checking the spread of values in the target variable\n",
    "data['sentiment'].value_counts()\n"
   ]
  },
  {
   "cell_type": "code",
   "execution_count": 43,
   "id": "e9f0df2a",
   "metadata": {},
   "outputs": [
    {
     "data": {
      "text/plain": [
       "<Axes: xlabel='sentiment'>"
      ]
     },
     "execution_count": 43,
     "metadata": {},
     "output_type": "execute_result"
    },
    {
     "data": {
      "image/png": "[encoded data removed]",
      "text/plain": [
       "<Figure size 640x480 with 1 Axes>"
      ]
     },
     "metadata": {},
     "output_type": "display_data"
    }
   ],
   "source": [
    "#Ploting the same in the bar chart \n",
    "data['sentiment'].value_counts().plot.bar()"
   ]
  },
  {
   "cell_type": "markdown",
   "id": "4a9ffba9",
   "metadata": {},
   "source": [
    "##  <a name = \"p5\" > Data Prepartion </a>"
   ]
  },
  {
   "cell_type": "code",
   "execution_count": 44,
   "id": "bfebf112",
   "metadata": {},
   "outputs": [
    {
     "data": {
      "text/html": [
       "<div>\n",
       "<style scoped>\n",
       "    .dataframe tbody tr th:only-of-type {\n",
       "        vertical-align: middle;\n",
       "    }\n",
       "\n",
       "    .dataframe tbody tr th {\n",
       "        vertical-align: top;\n",
       "    }\n",
       "\n",
       "    .dataframe thead th {\n",
       "        text-align: right;\n",
       "    }\n",
       "</style>\n",
       "<table border=\"1\" class=\"dataframe\">\n",
       "  <thead>\n",
       "    <tr style=\"text-align: right;\">\n",
       "      <th></th>\n",
       "      <th>text</th>\n",
       "      <th>sentiment</th>\n",
       "    </tr>\n",
       "  </thead>\n",
       "  <tbody>\n",
       "    <tr>\n",
       "      <th>0</th>\n",
       "      <td>is upset that he can't update his Facebook by ...</td>\n",
       "      <td>0</td>\n",
       "    </tr>\n",
       "    <tr>\n",
       "      <th>1</th>\n",
       "      <td>@Kenichan I dived many times for the ball. Man...</td>\n",
       "      <td>0</td>\n",
       "    </tr>\n",
       "    <tr>\n",
       "      <th>2</th>\n",
       "      <td>my whole body feels itchy and like its on fire</td>\n",
       "      <td>0</td>\n",
       "    </tr>\n",
       "    <tr>\n",
       "      <th>3</th>\n",
       "      <td>@nationwideclass no, it's not behaving at all....</td>\n",
       "      <td>0</td>\n",
       "    </tr>\n",
       "    <tr>\n",
       "      <th>4</th>\n",
       "      <td>@Kwesidei not the whole crew</td>\n",
       "      <td>0</td>\n",
       "    </tr>\n",
       "  </tbody>\n",
       "</table>\n",
       "</div>"
      ],
      "text/plain": [
       "                                                text  sentiment\n",
       "0  is upset that he can't update his Facebook by ...          0\n",
       "1  @Kenichan I dived many times for the ball. Man...          0\n",
       "2    my whole body feels itchy and like its on fire           0\n",
       "3  @nationwideclass no, it's not behaving at all....          0\n",
       "4                      @Kwesidei not the whole crew           0"
      ]
     },
     "execution_count": 44,
     "metadata": {},
     "output_type": "execute_result"
    }
   ],
   "source": [
    "#Considering the relevent columns in the final dataframe\n",
    "data = data[['text','sentiment']]\n",
    "data.head()"
   ]
  },
  {
   "cell_type": "code",
   "execution_count": 45,
   "id": "96f0e26c",
   "metadata": {},
   "outputs": [],
   "source": [
    "# Converting the ppositive sentiment value \"4\" to \"1\" in the target variable for better understanding\n",
    "data['sentiment'] = data['sentiment'].apply(lambda x : 1 if x == 4 else x)"
   ]
  },
  {
   "cell_type": "code",
   "execution_count": 46,
   "id": "5e3a46e5",
   "metadata": {},
   "outputs": [
    {
     "data": {
      "text/plain": [
       "sentiment\n",
       "1    800000\n",
       "0    799999\n",
       "Name: count, dtype: int64"
      ]
     },
     "execution_count": 46,
     "metadata": {},
     "output_type": "execute_result"
    }
   ],
   "source": [
    "# Checking the spread of values post change\n",
    "data['sentiment'].value_counts()"
   ]
  },
  {
   "cell_type": "code",
   "execution_count": 47,
   "id": "7b958bd2",
   "metadata": {},
   "outputs": [
    {
     "data": {
      "text/html": [
       "<div>\n",
       "<style scoped>\n",
       "    .dataframe tbody tr th:only-of-type {\n",
       "        vertical-align: middle;\n",
       "    }\n",
       "\n",
       "    .dataframe tbody tr th {\n",
       "        vertical-align: top;\n",
       "    }\n",
       "\n",
       "    .dataframe thead th {\n",
       "        text-align: right;\n",
       "    }\n",
       "</style>\n",
       "<table border=\"1\" class=\"dataframe\">\n",
       "  <thead>\n",
       "    <tr style=\"text-align: right;\">\n",
       "      <th></th>\n",
       "      <th>text</th>\n",
       "      <th>sentiment</th>\n",
       "    </tr>\n",
       "  </thead>\n",
       "  <tbody>\n",
       "    <tr>\n",
       "      <th>0</th>\n",
       "      <td>is upset that he can't update his Facebook by ...</td>\n",
       "      <td>0</td>\n",
       "    </tr>\n",
       "    <tr>\n",
       "      <th>1</th>\n",
       "      <td>@Kenichan I dived many times for the ball. Man...</td>\n",
       "      <td>0</td>\n",
       "    </tr>\n",
       "    <tr>\n",
       "      <th>2</th>\n",
       "      <td>my whole body feels itchy and like its on fire</td>\n",
       "      <td>0</td>\n",
       "    </tr>\n",
       "    <tr>\n",
       "      <th>3</th>\n",
       "      <td>@nationwideclass no, it's not behaving at all....</td>\n",
       "      <td>0</td>\n",
       "    </tr>\n",
       "    <tr>\n",
       "      <th>4</th>\n",
       "      <td>@Kwesidei not the whole crew</td>\n",
       "      <td>0</td>\n",
       "    </tr>\n",
       "  </tbody>\n",
       "</table>\n",
       "</div>"
      ],
      "text/plain": [
       "                                                text  sentiment\n",
       "0  is upset that he can't update his Facebook by ...          0\n",
       "1  @Kenichan I dived many times for the ball. Man...          0\n",
       "2    my whole body feels itchy and like its on fire           0\n",
       "3  @nationwideclass no, it's not behaving at all....          0\n",
       "4                      @Kwesidei not the whole crew           0"
      ]
     },
     "execution_count": 47,
     "metadata": {},
     "output_type": "execute_result"
    }
   ],
   "source": [
    "#Checking few rows in the dataframe \n",
    "data.head()"
   ]
  },
  {
   "cell_type": "code",
   "execution_count": 48,
   "id": "354f27ca",
   "metadata": {},
   "outputs": [],
   "source": [
    "# Storing text and sentiment data in lists for further processing\n",
    "text, sentiment = list(data['text']), list(data['sentiment'])"
   ]
  },
  {
   "cell_type": "markdown",
   "id": "fc2b0c7e",
   "metadata": {},
   "source": [
    "## <a name=\"p5\">Data Preprocessing</a>"
   ]
  },
  {
   "cell_type": "markdown",
   "id": "788dc524",
   "metadata": {},
   "source": [
    "**Text Preprocessing** is an important step for **Natural Language Processing (NLP)** tasks. It transforms text into a more digestible form so that machine learning algorithms can perform better.\n",
    "\n",
    "**The Preprocessing steps taken are:**\n",
    "1. **Lower Casing:** Each text is converted to lowercase.\n",
    "2. **Replacing URLs:** Links starting with **\"http\" or \"https\" or \"www\"** are replaced by **\"URL\"**.\n",
    "3. **Replacing Emojis:** Replace emojis by using a pre-defined dictionary containing emojis along with their meaning. *(eg: \":)\" to \"EMOJIsmile\")*\n",
    "4. **Replacing Usernames:** Replace @Usernames with word **\"USER\"**. *(eg: \"@Kaggle\" to \"USER\")*\n",
    "5. **Removing Non-Alphabets:** Replacing characters except Alphabets with a space.\n",
    "6. **Removing Consecutive letters:** 3 or more consecutive letters are replaced by 2 letters. *(eg: \"Heyyyy\" to \"Heyy\", \"Niceee\" to \"Nice\")*\n",
    "7. **Removing Short Words:** Words with length less than 2 are removed.\n",
    "8. **Removing Stopwords:** Stopwords are the English words which does not add much meaning to a sentence. They can safely be ignored without sacrificing the meaning of the sentence. *(eg: \"the\", \"he\", \"have\")*\n",
    "9. **Lemmatizing:** Lemmatization is the process of converting a word to its base form. *(e.g: “Great” to “Good”)*"
   ]
  },
  {
   "cell_type": "code",
   "execution_count": null,
   "id": "2ecca90e",
   "metadata": {},
   "outputs": [],
   "source": [
    "stop = stopwords.words('english')"
   ]
  },
  {
   "cell_type": "code",
   "execution_count": null,
   "id": "4b8ac4f0",
   "metadata": {},
   "outputs": [],
   "source": [
    "# Defined a method with all preprocessing functions\n",
    "\n",
    "def preprocess(textdata):\n",
    "    \n",
    "    # Defining dictionary containing all emojis with their meanings.\n",
    "    emojis = {':)': 'smile', ':-)': 'smile', ';d': 'wink', ':-E': 'vampire', ':(': 'sad', \n",
    "              ':-(': 'sad', ':-<': 'sad', ':P': 'raspberry', ':O': 'surprised',\n",
    "              ':-@': 'shocked', ':@': 'shocked',':-$': 'confused', ':\\\\': 'annoyed', \n",
    "              ':#': 'mute', ':X': 'mute', ':^)': 'smile', ':-&': 'confused', '$_$': 'greedy',\n",
    "              '@@': 'eyeroll', ':-!': 'confused', ':-D': 'smile', ':-0': 'yell', 'O.o': 'confused',\n",
    "              '<(-_-)>': 'robot', 'd[-_-]b': 'dj', \":'-)\": 'sadsmile', ';)': 'wink', \n",
    "              ';-)': 'wink', 'O:-)': 'angel','O*-)': 'angel','(:-D': 'gossip', '=^.^=': 'cat'}\n",
    "\n",
    "    stopwordlist = ['a', 'about', 'above', 'after', 'again', 'ain', 'all', 'am', 'an',\n",
    "                 'and','any','are', 'as', 'at', 'be', 'because', 'been', 'before',\n",
    "                 'being', 'below', 'between','both', 'by', 'can', 'd', 'did', 'do',\n",
    "                 'does', 'doing', 'down', 'during', 'each','few', 'for', 'from', \n",
    "                 'further', 'had', 'has', 'have', 'having', 'he', 'her', 'here',\n",
    "                 'hers', 'herself', 'him', 'himself', 'his', 'how', 'i', 'if', 'in',\n",
    "                 'into','is', 'it', 'its', 'itself', 'just', 'll', 'm', 'ma',\n",
    "                 'me', 'more', 'most','my', 'myself', 'now', 'o', 'of', 'on', 'once',\n",
    "                 'only', 'or', 'other', 'our', 'ours','ourselves', 'out', 'own', 're',\n",
    "                 's', 'same', 'she', \"shes\", 'should', \"shouldve\",'so', 'some', 'such',\n",
    "                 't', 'than', 'that', \"thatll\", 'the', 'their', 'theirs', 'them',\n",
    "                 'themselves', 'then', 'there', 'these', 'they', 'this', 'those', \n",
    "                 'through', 'to', 'too','under', 'until', 'up', 've', 'very', 'was',\n",
    "                 'we', 'were', 'what', 'when', 'where','which','while', 'who', 'whom',\n",
    "                 'why', 'will', 'with', 'won', 'y', 'you', \"youd\",\"youll\", \"youre\",\n",
    "                 \"youve\", 'your', 'yours', 'yourself', 'yourselves']\n",
    "\n",
    "\n",
    "    processedText = []\n",
    "        \n",
    "    # Defining regex patterns.\n",
    "    \n",
    "    urlPattern        = r\"((http://)[^ ]*|(https://)[^ ]*|( www\\.)[^ ]*)\"\n",
    "    userPattern       = '@[^\\s]+'\n",
    "    \n",
    "    # alphaPattern      = \"[^a-zA-Z0-9]\"\n",
    "    alphaPattern      = \"[^a-zA-Z]\"\n",
    "    sequencePattern   = r\"(.)\\1\\1+\"\n",
    "    seqReplacePattern = r\"\\1\\1\"\n",
    "    \n",
    "    for tweet in textdata:\n",
    "        tweet = tweet.lower()\n",
    "        \n",
    "        # Replace all URls with 'URL'\n",
    "        tweet = re.sub(urlPattern,' URL',tweet)\n",
    "        \n",
    "        # Replace all emojis.\n",
    "        for emoji in emojis.keys():\n",
    "            tweet = tweet.replace(emoji, \"EMOJI\" + emojis[emoji])    \n",
    "            \n",
    "        # Replace @USERNAME to 'USER'.\n",
    "        tweet = re.sub(userPattern,' USER', tweet)  \n",
    "        \n",
    "        # Replace all non alphabets.\n",
    "        tweet = re.sub(alphaPattern, \" \", tweet)\n",
    "        \n",
    "        # Replace 3 or more consecutive letters by 2 letter.\n",
    "        tweet = re.sub(sequencePattern, seqReplacePattern, tweet)\n",
    "        \n",
    "        #Removing punctuations if any left post removing all all non alphabets\n",
    "        all_char_list = []\n",
    "        all_char_list = [char for char in tweet if char not in string.punctuation]\n",
    "        tweet = ''.join(all_char_list)\n",
    "        \n",
    "        # Removing all stopwords as per custom list defined above\n",
    "        tweetwords = ''\n",
    "        for word in tweet.split():\n",
    "            if word not in (stopwordlist):\n",
    "                if len(word)>1:\n",
    "                    # Lemmatizing the word.\n",
    "                    # text_pos = pos_tag(word_tokenize(word))\n",
    "                    # word = lemma.lemmatize(text_pos[0][0],get_wordnet_pos_tag(text_pos[0][1]))\n",
    "                    # word = wordLemm.lemmatize(word)\n",
    "                    tweetwords += (word+' ')\n",
    "            \n",
    "        processedText.append(tweetwords)\n",
    "        \n",
    "    return processedText\n",
    "    \n",
    "    "
   ]
  },
  {
   "cell_type": "code",
   "execution_count": null,
   "id": "3a4cc4d3",
   "metadata": {},
   "outputs": [],
   "source": [
    "# Applying the entire text stored in list \"text\" for preprocessing and calculating the time taken to perform the operation\n",
    "t = time.time()\n",
    "preprocessedtext = preprocess(text)\n",
    "print('Text Preprocessing complete.')\n",
    "print(f'Time Taken: {round(time.time()-t)} seconds')"
   ]
  },
  {
   "cell_type": "code",
   "execution_count": null,
   "id": "351308bf",
   "metadata": {},
   "outputs": [],
   "source": [
    "# Defining a method to return the 2nd parameter for lemmatization that is POS tag\n",
    "def get_wordnet_pos_tag(tag):\n",
    "    if tag.startswith(\"J\"):\n",
    "        return wordnet.ADJ\n",
    "    if tag.startswith(\"V\"):\n",
    "        return wordnet.VERB\n",
    "    if tag.startswith(\"N\"):\n",
    "        return wordnet.NOUN\n",
    "    if tag.startswith(\"R\"):\n",
    "        return wordnet.ADV\n",
    "    else:\n",
    "        return wordnet.NOUN"
   ]
  },
  {
   "cell_type": "code",
   "execution_count": 56,
   "id": "ce00e8f5",
   "metadata": {},
   "outputs": [],
   "source": [
    "# Created a method to perform lemmatization with POS tags identified via a pos_tag method\n",
    "def lemmatize_process(preprocessedtext):\n",
    "    # Create Lemmatizer\n",
    "    lemma = WordNetLemmatizer()\n",
    "    \n",
    "    finalprocessedtext = []\n",
    "    for tweet in preprocessedtext:\n",
    "        text_pos = pos_tag(word_tokenize(tweet))\n",
    "        words = [x[0] for x in text_pos]\n",
    "        pos = [x[1] for x in text_pos]\n",
    "        tweet_lemma = \" \".join([lemma.lemmatize(a,get_wordnet_pos_tag(b)) for a,b in zip(words,pos)])\n",
    "        finalprocessedtext.append(tweet_lemma)\n",
    "    return finalprocessedtext"
   ]
  },
  {
   "cell_type": "code",
   "execution_count": null,
   "id": "c19b684f",
   "metadata": {},
   "outputs": [],
   "source": [
    "# Applying the entire text stored in list \"text\" for preprocessing and calculating the time taken to perform the operation\n",
    "t = time.time()\n",
    "processedtext = lemmatize_process(preprocessedtext)\n",
    "print('Text Lemmatization complete.')\n",
    "print(f'Time Taken: {round(time.time()-t)} seconds')"
   ]
  },
  {
   "cell_type": "markdown",
   "id": "2352a55c",
   "metadata": {},
   "source": [
    "## <a name = \"p5 \"> Data Analysis </a>"
   ]
  },
  {
   "cell_type": "code",
   "execution_count": null,
   "id": "1b595b57",
   "metadata": {},
   "outputs": [],
   "source": [
    "# Creating word cloud of negative tweets, where the words appearing larger are more frequent in nature across articles\n",
    "# First 800000 tweets in the list are negative tweets\n",
    "\n",
    "data_neg = processedtext[:800000]\n",
    "all_negwords = ' '.join(data_neg)\n",
    "wordcloud = WordCloud(max_words = 1000, width= 1600, height= 800,\n",
    "                      collocations = False).generate(all_negwords)\n",
    "plt.figure(figsize=(10,7))\n",
    "plt.imshow(wordcloud, interpolation='bilinear')\n",
    "plt.axis(\"off\")\n",
    "plt.show()"
   ]
  },
  {
   "cell_type": "code",
   "execution_count": null,
   "id": "7994932f",
   "metadata": {},
   "outputs": [],
   "source": [
    "# Creating word cloud of positive tweets, where the words appearing larger are more frequent in nature acros articles\n",
    "# Last 800000 tweets in the list are negative tweets\n",
    "\n",
    "data_pos = processedtext[800000:]\n",
    "all_poswords = ' '.join(data_pos)\n",
    "wordcloud = WordCloud(max_words = 1000, width= 1600, height= 800,\n",
    "                      collocations = False).generate(all_negwords)\n",
    "plt.figure(figsize=(10,7))\n",
    "plt.imshow(wordcloud, interpolation='bilinear')\n",
    "plt.axis(\"off\")\n",
    "plt.show()"
   ]
  },
  {
   "cell_type": "code",
   "execution_count": null,
   "id": "5dfb6172",
   "metadata": {},
   "outputs": [],
   "source": [
    "# Created a method using WhitespaceTokenizer and FreqDist to identify the most frequent set of words in the datset segregated\n",
    "# by target variable\n",
    "\n",
    "token_wspace = tokenize.WhitespaceTokenizer()\n",
    "\n",
    "def mostFrequentWords(tweets,quantity):\n",
    "    all_words = ' '.join(tweets)\n",
    "    all_tokens = token_wspace.tokenize(all_words)\n",
    "    freq_dist = nltk.FreqDist(all_tokens)\n",
    "    df_frequency = pd.DataFrame({\"Word\":list(freq_dist.keys()), \"Frequency\":list(freq_dist.values())})\n",
    "    df_frequency = df_frequency.nlargest(columns=\"Frequency\", n=quantity)\n",
    "    plt.figure(figsize=(12,8))\n",
    "    ax = sns.barplot(data = df_frequency, x = \"Word\", y = \"Frequency\", color = 'blue')\n",
    "    ax.set(ylabel = \"Count\")\n",
    "    plt.xticks(rotation='vertical')\n",
    "    plt.show()"
   ]
  },
  {
   "cell_type": "code",
   "execution_count": null,
   "id": "a35d2613",
   "metadata": {},
   "outputs": [],
   "source": [
    "# Calling the above method for negative cases, plotting the most frequent top 10 words\n",
    "mostFrequentWords(processedtext[:800000],20)\n"
   ]
  },
  {
   "cell_type": "code",
   "execution_count": null,
   "id": "8320b729",
   "metadata": {},
   "outputs": [],
   "source": [
    "# Calling the above method for positive cases, plotting the most frequent top 10 words\n",
    "mostFrequentWords(processedtext[800000:],20)"
   ]
  },
  {
   "cell_type": "code",
   "execution_count": null,
   "id": "eb2c85e6",
   "metadata": {},
   "outputs": [],
   "source": []
  }
 ],
 "metadata": {
  "kernelspec": {
   "display_name": "Python 3 (ipykernel)",
   "language": "python",
   "name": "python3"
  },
  "language_info": {
   "codemirror_mode": {
    "name": "ipython",
    "version": 3
   },
   "file_extension": ".py",
   "mimetype": "text/x-python",
   "name": "python",
   "nbconvert_exporter": "python",
   "pygments_lexer": "ipython3",
   "version": "3.11.5"
  }
 },
 "nbformat": 4,
 "nbformat_minor": 5
}
